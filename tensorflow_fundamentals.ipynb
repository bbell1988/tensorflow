{
  "nbformat": 4,
  "nbformat_minor": 0,
  "metadata": {
    "colab": {
      "provenance": [],
      "authorship_tag": "ABX9TyNIV1y3tDUcRMNF+NNSX5PA",
      "include_colab_link": true
    },
    "kernelspec": {
      "name": "python3",
      "display_name": "Python 3"
    },
    "language_info": {
      "name": "python"
    },
    "accelerator": "GPU",
    "gpuClass": "standard"
  },
  "cells": [
    {
      "cell_type": "markdown",
      "metadata": {
        "id": "view-in-github",
        "colab_type": "text"
      },
      "source": [
        "<a href=\"https://colab.research.google.com/github/bbell1988/tensorflow/blob/main/tensorflow_fundamentals.ipynb\" target=\"_parent\"><img src=\"https://colab.research.google.com/assets/colab-badge.svg\" alt=\"Open In Colab\"/></a>"
      ]
    },
    {
      "cell_type": "markdown",
      "source": [
        "# In this notebook, we're going to cover some of the most fundamental concepts of tensors using TensorFlow.\n",
        "\n",
        "More specifically, we're going to cover:\n",
        "\n",
        "* Introduction to tensors\n",
        "* Getting information from tensors\n",
        "* Manipulating tensors\n",
        "* Tensors & Numpy\n",
        "* Using @tf.function (a way to speed up your regular functions)\n",
        "* Using GPUs with TensorFlow (or TPUs)\n",
        "* Exercises to try yourself!\n",
        "\n"
      ],
      "metadata": {
        "id": "Nx1_KD8SzlfR"
      }
    },
    {
      "cell_type": "markdown",
      "source": [
        "# Introduction to Tensors"
      ],
      "metadata": {
        "id": "TXFscAjx0UiA"
      }
    },
    {
      "cell_type": "code",
      "source": [
        "# Import TensorFlow\n",
        "import tensorflow as tf\n",
        "print(tf.__version__)"
      ],
      "metadata": {
        "colab": {
          "base_uri": "https://localhost:8080/"
        },
        "id": "yZt4KwBN0RoI",
        "outputId": "abcc1db3-5f88-43f5-cd54-4246bb7f3b72"
      },
      "execution_count": null,
      "outputs": [
        {
          "output_type": "stream",
          "name": "stdout",
          "text": [
            "2.9.2\n"
          ]
        }
      ]
    },
    {
      "cell_type": "code",
      "source": [
        "# Create tensors with tf.constant()\n",
        "scalar = tf.constant(7)\n",
        "scalar"
      ],
      "metadata": {
        "colab": {
          "base_uri": "https://localhost:8080/"
        },
        "id": "0sepncLm0jH3",
        "outputId": "0994d308-7475-43df-93fe-aa16ef655897"
      },
      "execution_count": null,
      "outputs": [
        {
          "output_type": "execute_result",
          "data": {
            "text/plain": [
              "<tf.Tensor: shape=(), dtype=int32, numpy=7>"
            ]
          },
          "metadata": {},
          "execution_count": 3
        }
      ]
    },
    {
      "cell_type": "code",
      "source": [
        "# check number of dimensions of a tensor (ndim stands for number of dimensions)\n",
        "scalar.ndim"
      ],
      "metadata": {
        "colab": {
          "base_uri": "https://localhost:8080/"
        },
        "id": "SWVVKpJ606nu",
        "outputId": "dbf88fe5-54a8-4259-870b-39e52bea8176"
      },
      "execution_count": null,
      "outputs": [
        {
          "output_type": "execute_result",
          "data": {
            "text/plain": [
              "0"
            ]
          },
          "metadata": {},
          "execution_count": 4
        }
      ]
    },
    {
      "cell_type": "code",
      "source": [
        "# create a vector\n",
        "vector = tf.constant([10,10])\n",
        "vector"
      ],
      "metadata": {
        "colab": {
          "base_uri": "https://localhost:8080/"
        },
        "id": "KlLfMTDF1iz6",
        "outputId": "7ca5a881-952f-457d-d281-4ef18a0eb8ee"
      },
      "execution_count": null,
      "outputs": [
        {
          "output_type": "execute_result",
          "data": {
            "text/plain": [
              "<tf.Tensor: shape=(2,), dtype=int32, numpy=array([10, 10], dtype=int32)>"
            ]
          },
          "metadata": {},
          "execution_count": 4
        }
      ]
    },
    {
      "cell_type": "code",
      "source": [
        "# check the dimension of our vector\n",
        "vector.ndim"
      ],
      "metadata": {
        "colab": {
          "base_uri": "https://localhost:8080/"
        },
        "id": "BN-H9SHr1xpF",
        "outputId": "63417ecf-2eaf-4f14-95b9-a8730eda6be4"
      },
      "execution_count": null,
      "outputs": [
        {
          "output_type": "execute_result",
          "data": {
            "text/plain": [
              "1"
            ]
          },
          "metadata": {},
          "execution_count": 5
        }
      ]
    },
    {
      "cell_type": "code",
      "source": [
        "# create a matrix\n",
        "matrix = tf.constant([[10,7],\n",
        "                     [7,10]])\n",
        "matrix"
      ],
      "metadata": {
        "colab": {
          "base_uri": "https://localhost:8080/"
        },
        "id": "giwWrtNJ1_lr",
        "outputId": "66f0c22b-69d1-4d6c-cb8b-87a94f013041"
      },
      "execution_count": null,
      "outputs": [
        {
          "output_type": "execute_result",
          "data": {
            "text/plain": [
              "<tf.Tensor: shape=(2, 2), dtype=int32, numpy=\n",
              "array([[10,  7],\n",
              "       [ 7, 10]], dtype=int32)>"
            ]
          },
          "metadata": {},
          "execution_count": 6
        }
      ]
    },
    {
      "cell_type": "code",
      "source": [
        "matrix.ndim"
      ],
      "metadata": {
        "colab": {
          "base_uri": "https://localhost:8080/"
        },
        "id": "tu1W38RG2WmA",
        "outputId": "b9941a83-de5f-4179-889d-7ab9726bd41a"
      },
      "execution_count": null,
      "outputs": [
        {
          "output_type": "execute_result",
          "data": {
            "text/plain": [
              "2"
            ]
          },
          "metadata": {},
          "execution_count": 7
        }
      ]
    },
    {
      "cell_type": "code",
      "source": [
        "# Create another matrix\n",
        "\n",
        "another_matrix = tf.constant([[10., 7.],\n",
        "                              [3., 2.],\n",
        "                              [8., 9.]], dtype=tf.float16) # specifying the data type\n",
        "\n",
        "another_matrix"
      ],
      "metadata": {
        "id": "ONSzDz5_2nxa",
        "colab": {
          "base_uri": "https://localhost:8080/"
        },
        "outputId": "412308b3-3cb1-45b1-bc67-eace4c0c1bfd"
      },
      "execution_count": null,
      "outputs": [
        {
          "output_type": "execute_result",
          "data": {
            "text/plain": [
              "<tf.Tensor: shape=(3, 2), dtype=float16, numpy=\n",
              "array([[10.,  7.],\n",
              "       [ 3.,  2.],\n",
              "       [ 8.,  9.]], dtype=float16)>"
            ]
          },
          "metadata": {},
          "execution_count": 6
        }
      ]
    },
    {
      "cell_type": "code",
      "source": [
        "another_matrix.ndim"
      ],
      "metadata": {
        "colab": {
          "base_uri": "https://localhost:8080/"
        },
        "id": "GFxhkyeWpPGU",
        "outputId": "02954756-35c3-4801-9549-6dfc7a12f042"
      },
      "execution_count": null,
      "outputs": [
        {
          "output_type": "execute_result",
          "data": {
            "text/plain": [
              "2"
            ]
          },
          "metadata": {},
          "execution_count": 7
        }
      ]
    },
    {
      "cell_type": "code",
      "source": [],
      "metadata": {
        "id": "qiSGT4eRpcMW"
      },
      "execution_count": null,
      "outputs": []
    },
    {
      "cell_type": "markdown",
      "source": [
        "# Self-Practice"
      ],
      "metadata": {
        "id": "_SXSbvENjpeN"
      }
    },
    {
      "cell_type": "markdown",
      "source": [
        "### Create a vector, scalar, matrix and tensor with values of your choosing using tf.constant()."
      ],
      "metadata": {
        "id": "ruflIkeDub1W"
      }
    },
    {
      "cell_type": "code",
      "source": [
        "import tensorflow as tf"
      ],
      "metadata": {
        "id": "lVjk-qWKjsu_"
      },
      "execution_count": 1,
      "outputs": []
    },
    {
      "cell_type": "code",
      "source": [
        "scalar = tf.constant(7)\n",
        "\n",
        "print('ndim: ',scalar.ndim), print('size: ',tf.size(scalar).numpy())\n",
        "scalar.shape"
      ],
      "metadata": {
        "colab": {
          "base_uri": "https://localhost:8080/"
        },
        "id": "gJvqn5cNjxJG",
        "outputId": "6e003215-1a8b-4874-eccf-f7a867cfa52d"
      },
      "execution_count": 85,
      "outputs": [
        {
          "output_type": "stream",
          "name": "stdout",
          "text": [
            "ndim:  0\n",
            "size:  1\n"
          ]
        },
        {
          "output_type": "execute_result",
          "data": {
            "text/plain": [
              "TensorShape([])"
            ]
          },
          "metadata": {},
          "execution_count": 85
        }
      ]
    },
    {
      "cell_type": "code",
      "source": [
        "vector = tf.constant([4,3,2,1])\n",
        "\n",
        "print('ndim: ',vector.ndim), print('size: ',tf.size(vector).numpy())\n",
        "vector.shape"
      ],
      "metadata": {
        "colab": {
          "base_uri": "https://localhost:8080/"
        },
        "id": "EcXGxw_OkDiL",
        "outputId": "e7bd65b8-df6f-49bf-a221-45dc971477ce"
      },
      "execution_count": 84,
      "outputs": [
        {
          "output_type": "stream",
          "name": "stdout",
          "text": [
            "ndim:  1\n",
            "size:  4\n"
          ]
        },
        {
          "output_type": "execute_result",
          "data": {
            "text/plain": [
              "TensorShape([4])"
            ]
          },
          "metadata": {},
          "execution_count": 84
        }
      ]
    },
    {
      "cell_type": "code",
      "source": [
        "matrix = tf.constant([[3,12,6,5],\n",
        "                      [45,0,14,1]])\n",
        "\n",
        "print('ndim: ',matrix.ndim), print('size: ',tf.size(matrix).numpy())\n",
        "matrix.shape"
      ],
      "metadata": {
        "colab": {
          "base_uri": "https://localhost:8080/"
        },
        "id": "OjkPsjBdoAdD",
        "outputId": "fb61a626-fa60-4dff-f9d8-7f73a96fdce3"
      },
      "execution_count": 83,
      "outputs": [
        {
          "output_type": "stream",
          "name": "stdout",
          "text": [
            "ndim:  2\n",
            "size:  8\n"
          ]
        },
        {
          "output_type": "execute_result",
          "data": {
            "text/plain": [
              "TensorShape([2, 4])"
            ]
          },
          "metadata": {},
          "execution_count": 83
        }
      ]
    },
    {
      "cell_type": "markdown",
      "source": [
        "I like to think of size as \"how many elements are there in each set of brackets?\" , or in each list.\n",
        "\n",
        "Notice below that the outermost list has 2 elements, each their own lists that contain 3 elements themselves.\n",
        "\n",
        "The next list contains 3 elements ( 3 individual lists)\n",
        "\n",
        "And inside each list, there 5 elements\n",
        "\n",
        "Therefore the size is (2,3,5)"
      ],
      "metadata": {
        "id": "Bj1hw4R1pypT"
      }
    },
    {
      "cell_type": "code",
      "source": [
        "tensor_235 = tf.constant([[[2,3,6,1,0],\n",
        "                       [4,4,7,0,4],\n",
        "                       [3,8,1,5,5]],\n",
        "                      [[2,2,2,0,9],\n",
        "                       [3,3,1,7,8],\n",
        "                       [6,9,0,5,2]]])\n",
        "\n",
        "print('ndim: ',tensor_235.ndim), print('size: ',tf.size(tensor_235).numpy())\n",
        "tensor_235.shape"
      ],
      "metadata": {
        "colab": {
          "base_uri": "https://localhost:8080/"
        },
        "id": "7_tDERQqpkIi",
        "outputId": "a1bd90cf-ab88-47d6-b9b7-086f33490535"
      },
      "execution_count": 82,
      "outputs": [
        {
          "output_type": "stream",
          "name": "stdout",
          "text": [
            "ndim:  3\n",
            "size:  30\n"
          ]
        },
        {
          "output_type": "execute_result",
          "data": {
            "text/plain": [
              "TensorShape([2, 3, 5])"
            ]
          },
          "metadata": {},
          "execution_count": 82
        }
      ]
    },
    {
      "cell_type": "code",
      "source": [
        "tensor_233 = tf.constant([[[2,3,6],\n",
        "                           [4,4,7],\n",
        "                           [3,8,1]],\n",
        "                          [[2,2,2],\n",
        "                           [3,3,1],\n",
        "                           [6,9,0]]])\n",
        "\n",
        "print('ndim: ',tensor_233.ndim), print('size: ',tf.size(tensor_233).numpy())\n",
        "tensor_233.shape"
      ],
      "metadata": {
        "colab": {
          "base_uri": "https://localhost:8080/"
        },
        "id": "5xQCjVe2qAYa",
        "outputId": "9a113caf-896c-4be9-ef48-880493dbee35"
      },
      "execution_count": 80,
      "outputs": [
        {
          "output_type": "stream",
          "name": "stdout",
          "text": [
            "ndim:  3\n",
            "size:  18\n"
          ]
        },
        {
          "output_type": "execute_result",
          "data": {
            "text/plain": [
              "TensorShape([2, 3, 3])"
            ]
          },
          "metadata": {},
          "execution_count": 80
        }
      ]
    },
    {
      "cell_type": "code",
      "source": [
        "tensor_1112 = tf.constant([[[[2,4]]]])\n",
        "\n",
        "print('ndim: ',tensor_1112.ndim), print('size: ',tf.size(tensor_1112).numpy())\n",
        "tensor_1112.shape"
      ],
      "metadata": {
        "colab": {
          "base_uri": "https://localhost:8080/"
        },
        "id": "LbJTVVXxriS5",
        "outputId": "70cba056-6368-4e78-81cb-ad32a9a0e103"
      },
      "execution_count": 81,
      "outputs": [
        {
          "output_type": "stream",
          "name": "stdout",
          "text": [
            "ndim:  4\n",
            "size:  2\n"
          ]
        },
        {
          "output_type": "execute_result",
          "data": {
            "text/plain": [
              "TensorShape([1, 1, 1, 2])"
            ]
          },
          "metadata": {},
          "execution_count": 81
        }
      ]
    },
    {
      "cell_type": "code",
      "source": [
        "tensor_133 = tf.constant([[[2,3,6],\n",
        "                           [4,4,7],\n",
        "                           [3,8,1]]])\n",
        "\n",
        "print('ndim: ',tensor_133.ndim), print('size: ',tf.size(tensor_133).numpy())\n",
        "tensor_133.shape"
      ],
      "metadata": {
        "colab": {
          "base_uri": "https://localhost:8080/"
        },
        "id": "4lUPEjU0rw6_",
        "outputId": "e1794aae-79cb-47ee-ff4a-fd80efb03c3b"
      },
      "execution_count": 79,
      "outputs": [
        {
          "output_type": "stream",
          "name": "stdout",
          "text": [
            "ndim:  3\n",
            "size:  9\n"
          ]
        },
        {
          "output_type": "execute_result",
          "data": {
            "text/plain": [
              "TensorShape([1, 3, 3])"
            ]
          },
          "metadata": {},
          "execution_count": 79
        }
      ]
    },
    {
      "cell_type": "markdown",
      "source": [
        "### Create two tensors containing random values between 0 and 1 with shape [5, 300]"
      ],
      "metadata": {
        "id": "8KIsoXd3u0Bt"
      }
    },
    {
      "cell_type": "code",
      "source": [
        "data1 = tf.random.uniform(shape=[5,300], seed=1) # documentation shows that unless specified, the values will be from [0,1)"
      ],
      "metadata": {
        "id": "m6TcLNWLyIAg"
      },
      "execution_count": 89,
      "outputs": []
    },
    {
      "cell_type": "code",
      "source": [
        "data1"
      ],
      "metadata": {
        "colab": {
          "base_uri": "https://localhost:8080/"
        },
        "id": "M4gXXaC5yahh",
        "outputId": "d543f328-e27f-4683-8aca-a4d4415f4307"
      },
      "execution_count": 90,
      "outputs": [
        {
          "output_type": "execute_result",
          "data": {
            "text/plain": [
              "<tf.Tensor: shape=(5, 300), dtype=float32, numpy=\n",
              "array([[0.3875184 , 0.7485455 , 0.54871905, ..., 0.43299985, 0.21701062,\n",
              "        0.8580793 ],\n",
              "       [0.29721284, 0.07816195, 0.07263577, ..., 0.97732425, 0.740196  ,\n",
              "        0.40200448],\n",
              "       [0.99352324, 0.7668098 , 0.13661015, ..., 0.6491897 , 0.03674686,\n",
              "        0.35594702],\n",
              "       [0.5936897 , 0.8116046 , 0.59611714, ..., 0.84157944, 0.8777541 ,\n",
              "        0.9207442 ],\n",
              "       [0.16323543, 0.5122404 , 0.5867741 , ..., 0.38197076, 0.9409027 ,\n",
              "        0.70660126]], dtype=float32)>"
            ]
          },
          "metadata": {},
          "execution_count": 90
        }
      ]
    },
    {
      "cell_type": "code",
      "source": [
        "data2 = tf.random.uniform(shape=[5,300], seed=2)"
      ],
      "metadata": {
        "id": "rhiCuq9Eyy5Z"
      },
      "execution_count": 91,
      "outputs": []
    },
    {
      "cell_type": "code",
      "source": [
        "data2"
      ],
      "metadata": {
        "colab": {
          "base_uri": "https://localhost:8080/"
        },
        "id": "XuIcRPwuzYs_",
        "outputId": "4baf0a05-b9d1-49ee-9400-fb468ebbca0c"
      },
      "execution_count": 92,
      "outputs": [
        {
          "output_type": "execute_result",
          "data": {
            "text/plain": [
              "<tf.Tensor: shape=(5, 300), dtype=float32, numpy=\n",
              "array([[0.01476038, 0.3965603 , 0.64154613, ..., 0.3521223 , 0.50791466,\n",
              "        0.9924396 ],\n",
              "       [0.15385628, 0.73710203, 0.03105795, ..., 0.19707048, 0.12957   ,\n",
              "        0.07000494],\n",
              "       [0.10715544, 0.42963457, 0.95503855, ..., 0.9423845 , 0.42851102,\n",
              "        0.37013483],\n",
              "       [0.5849999 , 0.3084643 , 0.6610925 , ..., 0.31700587, 0.17780745,\n",
              "        0.68700004],\n",
              "       [0.5284779 , 0.67358804, 0.8820958 , ..., 0.6116805 , 0.8348483 ,\n",
              "        0.77032745]], dtype=float32)>"
            ]
          },
          "metadata": {},
          "execution_count": 92
        }
      ]
    },
    {
      "cell_type": "markdown",
      "source": [
        "### Multiply the two tensors you created using matrix multiplication"
      ],
      "metadata": {
        "id": "KJBHiVCmzmqi"
      }
    },
    {
      "cell_type": "code",
      "source": [
        "mul_result = tf.matmul(a=data1,b=data2,transpose_b=True)"
      ],
      "metadata": {
        "id": "4VP84yeCzZ2k"
      },
      "execution_count": 94,
      "outputs": []
    },
    {
      "cell_type": "code",
      "source": [
        "mul_result"
      ],
      "metadata": {
        "colab": {
          "base_uri": "https://localhost:8080/"
        },
        "id": "sxl7lyxe0UPN",
        "outputId": "6321cc4f-39e4-4509-b83e-9a95c55ee9af"
      },
      "execution_count": 95,
      "outputs": [
        {
          "output_type": "execute_result",
          "data": {
            "text/plain": [
              "<tf.Tensor: shape=(5, 5), dtype=float32, numpy=\n",
              "array([[74.31407 , 75.357414, 76.69586 , 78.49614 , 80.84558 ],\n",
              "       [73.1833  , 76.0802  , 74.51737 , 78.80843 , 83.85922 ],\n",
              "       [74.51157 , 77.26175 , 76.27721 , 78.03581 , 82.114456],\n",
              "       [72.221344, 72.85527 , 73.20939 , 74.03663 , 78.22226 ],\n",
              "       [71.40582 , 71.79626 , 71.429245, 75.54306 , 75.85847 ]],\n",
              "      dtype=float32)>"
            ]
          },
          "metadata": {},
          "execution_count": 95
        }
      ]
    },
    {
      "cell_type": "markdown",
      "source": [
        "### Multiply the two tensors you created in 3 using dot product"
      ],
      "metadata": {
        "id": "ZMxcXt410jtS"
      }
    },
    {
      "cell_type": "code",
      "source": [
        "aa = tf.constant([[2,4],\n",
        "                  [3,6]])\n",
        "\n",
        "bb = tf.constant([[3,9],\n",
        "                  [4,7]])"
      ],
      "metadata": {
        "id": "I4ZxEH1y2OGo"
      },
      "execution_count": 99,
      "outputs": []
    },
    {
      "cell_type": "code",
      "source": [
        "tf.tensordot(a=aa,b=bb,axes=1)"
      ],
      "metadata": {
        "colab": {
          "base_uri": "https://localhost:8080/"
        },
        "id": "OjtxP5zX2a02",
        "outputId": "85c1cd4f-fba7-4227-f8df-3c977cab6fee"
      },
      "execution_count": 101,
      "outputs": [
        {
          "output_type": "execute_result",
          "data": {
            "text/plain": [
              "<tf.Tensor: shape=(2, 2), dtype=int32, numpy=\n",
              "array([[22, 46],\n",
              "       [33, 69]], dtype=int32)>"
            ]
          },
          "metadata": {},
          "execution_count": 101
        }
      ]
    },
    {
      "cell_type": "code",
      "source": [
        "tf.tensordot(a=data1,b=data2,axes=0)"
      ],
      "metadata": {
        "colab": {
          "base_uri": "https://localhost:8080/"
        },
        "id": "9Rcnyfc70Z_a",
        "outputId": "18b1e6dd-c5c2-4c6b-d2dc-4723ea7d6557"
      },
      "execution_count": 98,
      "outputs": [
        {
          "output_type": "execute_result",
          "data": {
            "text/plain": [
              "<tf.Tensor: shape=(5, 300, 5, 300), dtype=float32, numpy=\n",
              "array([[[[5.71991690e-03, 1.53674424e-01, 2.48610929e-01, ...,\n",
              "          1.36453882e-01, 1.96826279e-01, 3.84588629e-01],\n",
              "         [5.96221387e-02, 2.85640597e-01, 1.20355291e-02, ...,\n",
              "          7.63684362e-02, 5.02107628e-02, 2.71282028e-02],\n",
              "         [4.15247045e-02, 1.66491300e-01, 3.70095015e-01, ...,\n",
              "          3.65191340e-01, 1.66055903e-01, 1.43434063e-01],\n",
              "         [2.26698235e-01, 1.19535588e-01, 2.56185532e-01, ...,\n",
              "          1.22845612e-01, 6.89036623e-02, 2.66225159e-01],\n",
              "         [2.04794914e-01, 2.61027753e-01, 3.41828376e-01, ...,\n",
              "          2.37037450e-01, 3.23519081e-01, 2.98516065e-01]],\n",
              "\n",
              "        [[1.10488124e-02, 2.96843439e-01, 4.80226487e-01, ...,\n",
              "          2.63579577e-01, 3.80197257e-01, 7.42886245e-01],\n",
              "         [1.15168430e-01, 5.51754415e-01, 2.32482925e-02, ...,\n",
              "          1.47516221e-01, 9.69890505e-02, 5.24018854e-02],\n",
              "         [8.02107304e-02, 3.21601033e-01, 7.14889824e-01, ...,\n",
              "          7.05417693e-01, 3.20760012e-01, 2.77062774e-01],\n",
              "         [4.37899083e-01, 2.30899557e-01, 4.94857848e-01, ...,\n",
              "          2.37293333e-01, 1.33096978e-01, 5.14250815e-01],\n",
              "         [3.95589769e-01, 5.04211307e-01, 6.60288870e-01, ...,\n",
              "          4.57870722e-01, 6.24921978e-01, 5.76625168e-01]],\n",
              "\n",
              "        [[8.09929892e-03, 2.17600197e-01, 3.52028579e-01, ...,\n",
              "          1.93216220e-01, 2.78702438e-01, 5.44570506e-01],\n",
              "         [8.44238698e-02, 4.04461920e-01, 1.70420911e-02, ...,\n",
              "          1.08136326e-01, 7.10975304e-02, 3.84130441e-02],\n",
              "         [5.87982312e-02, 2.35748678e-01, 5.24047852e-01, ...,\n",
              "          5.17104328e-01, 2.35132158e-01, 2.03100026e-01],\n",
              "         [3.21000606e-01, 1.69260234e-01, 3.62754047e-01, ...,\n",
              "          1.73947155e-01, 9.75663364e-02, 3.76969993e-01],\n",
              "         [2.89985895e-01, 3.69610578e-01, 4.84022766e-01, ...,\n",
              "          3.35640758e-01, 4.58097160e-01, 4.22693342e-01]],\n",
              "\n",
              "        ...,\n",
              "\n",
              "        [[6.39124028e-03, 1.71710551e-01, 2.77789384e-01, ...,\n",
              "          1.52468905e-01, 2.19926968e-01, 4.29726213e-01],\n",
              "         [6.66197464e-02, 3.19165081e-01, 1.34480894e-02, ...,\n",
              "          8.53314847e-02, 5.61037920e-02, 3.03121284e-02],\n",
              "         [4.63982895e-02, 1.86031699e-01, 4.13531542e-01, ...,\n",
              "          4.08052325e-01, 1.85545206e-01, 1.60268322e-01],\n",
              "         [2.53304869e-01, 1.33564994e-01, 2.86252975e-01, ...,\n",
              "          1.37263492e-01, 7.69905970e-02, 2.97470897e-01],\n",
              "         [2.28830859e-01, 2.91663527e-01, 3.81947368e-01, ...,\n",
              "          2.64857560e-01, 3.61489177e-01, 3.33551675e-01]],\n",
              "\n",
              "        [[3.20315803e-03, 8.60577971e-02, 1.39222324e-01, ...,\n",
              "          7.64142796e-02, 1.10222876e-01, 2.15369940e-01],\n",
              "         [3.33884470e-02, 1.59958974e-01, 6.73990557e-03, ...,\n",
              "          4.27663848e-02, 2.81180665e-02, 1.51918149e-02],\n",
              "         [2.32538693e-02, 9.32352617e-02, 2.07253501e-01, ...,\n",
              "          2.04507440e-01, 9.29914415e-02, 8.03231895e-02],\n",
              "         [1.26951188e-01, 6.69400245e-02, 1.43464088e-01, ...,\n",
              "          6.87936395e-02, 3.85861062e-02, 1.49086297e-01],\n",
              "         [1.14685319e-01, 1.46175757e-01, 1.91424161e-01, ...,\n",
              "          1.32741168e-01, 1.81170940e-01, 1.67169228e-01]],\n",
              "\n",
              "        [[1.26655726e-02, 3.40280205e-01, 5.50497472e-01, ...,\n",
              "          3.02148879e-01, 4.35831070e-01, 8.51591945e-01],\n",
              "         [1.32020891e-01, 6.32492006e-01, 2.66501885e-02, ...,\n",
              "          1.69102103e-01, 1.11181341e-01, 6.00697920e-02],\n",
              "         [9.19478685e-02, 3.68660539e-01, 8.19498837e-01, ...,\n",
              "          8.08640659e-01, 3.67696434e-01, 3.17605048e-01],\n",
              "         [5.01976311e-01, 2.64686823e-01, 5.67269802e-01, ...,\n",
              "          2.72016168e-01, 1.52572900e-01, 5.89500546e-01],\n",
              "         [4.53475952e-01, 5.77991962e-01, 7.56908178e-01, ...,\n",
              "          5.24870396e-01, 7.16366053e-01, 6.61002040e-01]]],\n",
              "\n",
              "\n",
              "       [[[4.38697310e-03, 1.17862813e-01, 1.90675750e-01, ...,\n",
              "          1.04655273e-01, 1.50958762e-01, 2.94965804e-01],\n",
              "         [4.57280613e-02, 2.19076186e-01, 9.23082232e-03, ...,\n",
              "          5.85718751e-02, 3.85098681e-02, 2.08063666e-02],\n",
              "         [3.18479724e-02, 1.27692908e-01, 2.83849716e-01, ...,\n",
              "          2.80088753e-01, 1.27358973e-01, 1.10008821e-01],\n",
              "         [1.73869491e-01, 9.16795507e-02, 1.96485192e-01, ...,\n",
              "          9.42182168e-02, 5.28466590e-02, 2.04185233e-01],\n",
              "         [1.57070413e-01, 2.00199008e-01, 2.62170196e-01, ...,\n",
              "          1.81799307e-01, 2.48127624e-01, 2.28951201e-01]],\n",
              "\n",
              "        [[1.15369982e-03, 3.09959296e-02, 5.01445010e-02, ...,\n",
              "          2.75225677e-02, 3.96996029e-02, 7.75710195e-02],\n",
              "         [1.20257074e-02, 5.76133355e-02, 2.42755050e-03, ...,\n",
              "          1.54034141e-02, 1.01274448e-02, 5.47172315e-03],\n",
              "         [8.37547891e-03, 3.35810781e-02, 7.46476799e-02, ...,\n",
              "          7.36586154e-02, 3.34932581e-02, 2.89304610e-02],\n",
              "         [4.57247384e-02, 2.41101719e-02, 5.16722836e-02, ...,\n",
              "          2.47777980e-02, 1.38977775e-02, 5.36972657e-02],\n",
              "         [4.13068682e-02, 5.26489578e-02, 6.89463317e-02, ...,\n",
              "          4.78101447e-02, 6.52533770e-02, 6.02102987e-02]],\n",
              "\n",
              "        [[1.07213121e-03, 2.88044643e-02, 4.65991981e-02, ...,\n",
              "          2.55766753e-02, 3.68927717e-02, 7.20866174e-02],\n",
              "         [1.11754695e-02, 5.35399728e-02, 2.25591846e-03, ...,\n",
              "          1.43143656e-02, 9.41141695e-03, 5.08486293e-03],\n",
              "         [7.78331794e-03, 3.12068369e-02, 6.93699569e-02, ...,\n",
              "          6.84508234e-02, 3.11252289e-02, 2.68850289e-02],\n",
              "         [4.24919203e-02, 2.24055406e-02, 4.80189659e-02, ...,\n",
              "          2.30259653e-02, 1.29151810e-02, 4.99007776e-02],\n",
              "         [3.83864008e-02, 4.89265844e-02, 6.40717074e-02, ...,\n",
              "          4.44298834e-02, 6.06398471e-02, 5.59533276e-02]],\n",
              "\n",
              "        ...,\n",
              "\n",
              "        [[1.44256726e-02, 3.87567997e-01, 6.26998603e-01, ...,\n",
              "          3.44137669e-01, 4.96397316e-01, 9.69935298e-01],\n",
              "         [1.50367469e-01, 7.20387697e-01, 3.03536914e-02, ...,\n",
              "          1.92601755e-01, 1.26631916e-01, 6.84175268e-02],\n",
              "         [1.04725614e-01, 4.19892281e-01, 9.33382332e-01, ...,\n",
              "          9.21015203e-01, 4.18794215e-01, 3.61741751e-01],\n",
              "         [5.71734607e-01, 3.01469624e-01, 6.46101773e-01, ...,\n",
              "          3.09817523e-01, 1.73775539e-01, 6.71421766e-01],\n",
              "         [5.16494274e-01, 6.58313930e-01, 8.62093627e-01, ...,\n",
              "          5.97810209e-01, 8.15917492e-01, 7.52859712e-01]],\n",
              "\n",
              "        [[1.09255705e-02, 2.93532342e-01, 4.74869877e-01, ...,\n",
              "          2.60639518e-01, 3.75956386e-01, 7.34599829e-01],\n",
              "         [1.13883801e-01, 5.45599997e-01, 2.29889732e-02, ...,\n",
              "          1.45870775e-01, 9.59071964e-02, 5.18173762e-02],\n",
              "         [7.93160275e-02, 3.18013787e-01, 7.06915677e-01, ...,\n",
              "          6.97549224e-01, 3.17182153e-01, 2.73972303e-01],\n",
              "         [4.33014601e-01, 2.28324026e-01, 4.89338040e-01, ...,\n",
              "          2.34646469e-01, 1.31612360e-01, 5.08514643e-01],\n",
              "         [3.91177237e-01, 4.98587161e-01, 6.52923763e-01, ...,\n",
              "          4.52763468e-01, 6.17951334e-01, 5.70193291e-01]],\n",
              "\n",
              "        [[5.93373692e-03, 1.59419015e-01, 2.57904410e-01, ...,\n",
              "          1.41554743e-01, 2.04183966e-01, 3.98965180e-01],\n",
              "         [6.18509129e-02, 2.96318322e-01, 1.24854362e-02, ...,\n",
              "          7.92232156e-02, 5.20877242e-02, 2.81422995e-02],\n",
              "         [4.30769697e-02, 1.72715023e-01, 3.83929789e-01, ...,\n",
              "          3.78842771e-01, 1.72263354e-01, 1.48795858e-01],\n",
              "         [2.35172585e-01, 1.24004029e-01, 2.65762150e-01, ...,\n",
              "          1.27437785e-01, 7.14793950e-02, 2.76177078e-01],\n",
              "         [2.12450489e-01, 2.70785421e-01, 3.54606479e-01, ...,\n",
              "          2.45898306e-01, 3.35612744e-01, 3.09675097e-01]]],\n",
              "\n",
              "\n",
              "       [[[1.46647757e-02, 3.93991888e-01, 6.37390971e-01, ...,\n",
              "          3.49841684e-01, 5.04625022e-01, 9.86011863e-01],\n",
              "         [1.52859792e-01, 7.32327998e-01, 3.08567993e-02, ...,\n",
              "          1.95794106e-01, 1.28730819e-01, 6.95515350e-02],\n",
              "         [1.06461421e-01, 4.26851928e-01, 9.48853016e-01, ...,\n",
              "          9.36280906e-01, 4.25735652e-01, 3.67737561e-01],\n",
              "         [5.81211030e-01, 3.06466430e-01, 6.56810760e-01, ...,\n",
              "          3.14952701e-01, 1.76655829e-01, 6.82550490e-01],\n",
              "         [5.25055110e-01, 6.69225395e-01, 8.76382709e-01, ...,\n",
              "          6.07718825e-01, 8.29441190e-01, 7.65338242e-01]],\n",
              "\n",
              "        [[1.13184005e-02, 3.04086328e-01, 4.91943866e-01, ...,\n",
              "          2.70010829e-01, 3.89473945e-01, 7.61012435e-01],\n",
              "         [1.17978506e-01, 5.65217078e-01, 2.38155443e-02, ...,\n",
              "          1.51115581e-01, 9.93555561e-02, 5.36804758e-02],\n",
              "         [8.21678489e-02, 3.29448014e-01, 7.32332945e-01, ...,\n",
              "          7.22629666e-01, 3.28586459e-01, 2.83823013e-01],\n",
              "         [4.48583692e-01, 2.36533448e-01, 5.06932259e-01, ...,\n",
              "          2.43083224e-01, 1.36344492e-01, 5.26798368e-01],\n",
              "         [4.05242056e-01, 5.16513944e-01, 6.76399708e-01, ...,\n",
              "          4.69042629e-01, 6.40169859e-01, 5.90694666e-01]],\n",
              "\n",
              "        [[2.01641698e-03, 5.41741624e-02, 8.76417160e-02, ...,\n",
              "          4.81034815e-02, 6.93862960e-02, 1.35577321e-01],\n",
              "         [2.10183300e-02, 1.00695617e-01, 4.24283184e-03, ...,\n",
              "          2.69218273e-02, 1.77005790e-02, 9.56338551e-03],\n",
              "         [1.46385208e-02, 5.86924441e-02, 1.30467966e-01, ...,\n",
              "          1.28739282e-01, 5.85389547e-02, 5.05641736e-02],\n",
              "         [7.99169242e-02, 4.21393514e-02, 9.03119519e-02, ...,\n",
              "          4.33062203e-02, 2.42903028e-02, 9.38511789e-02],\n",
              "         [7.21954480e-02, 9.20189619e-02, 1.20503239e-01, ...,\n",
              "          8.35617632e-02, 1.14048749e-01, 1.05234548e-01]],\n",
              "\n",
              "        ...,\n",
              "\n",
              "        [[9.58228391e-03, 2.57442862e-01, 4.16485161e-01, ...,\n",
              "          2.28594184e-01, 3.29732984e-01, 6.44281566e-01],\n",
              "         [9.98819098e-02, 4.78519052e-01, 2.01625042e-02, ...,\n",
              "          1.27936125e-01, 8.41155127e-02, 4.54464853e-02],\n",
              "         [6.95642084e-02, 2.78914332e-01, 6.20001197e-01, ...,\n",
              "          6.11786306e-01, 2.78184950e-01, 2.40287721e-01],\n",
              "         [3.79775941e-01, 2.00251848e-01, 4.29174453e-01, ...,\n",
              "          2.05796957e-01, 1.15430765e-01, 4.45993364e-01],\n",
              "         [3.43082428e-01, 4.37286437e-01, 5.72647512e-01, ...,\n",
              "          3.97096694e-01, 5.41974902e-01, 5.00088632e-01]],\n",
              "\n",
              "        [[5.42397436e-04, 1.45723457e-02, 2.35748049e-02, ...,\n",
              "          1.29393889e-02, 1.86642688e-02, 3.64690386e-02],\n",
              "         [5.65373525e-03, 2.70861853e-02, 1.14128226e-03, ...,\n",
              "          7.24172127e-03, 4.76129074e-03, 2.57246173e-03],\n",
              "         [3.93762579e-03, 1.57877207e-02, 3.50946672e-02, ...,\n",
              "          3.46296690e-02, 1.57464352e-02, 1.36012929e-02],\n",
              "         [2.14969106e-02, 1.13350935e-02, 2.42930744e-02, ...,\n",
              "          1.16489707e-02, 6.53386535e-03, 2.52450947e-02],\n",
              "         [1.94199029e-02, 2.47522444e-02, 3.24142501e-02, ...,\n",
              "          2.24773381e-02, 3.06780525e-02, 2.83071138e-02]],\n",
              "\n",
              "        [[5.25391148e-03, 1.41154453e-01, 2.28356436e-01, ...,\n",
              "          1.25336885e-01, 1.80790707e-01, 3.53255928e-01],\n",
              "         [5.47646843e-02, 2.62369275e-01, 1.10549862e-02, ...,\n",
              "          7.01466501e-02, 4.61200587e-02, 2.49180496e-02],\n",
              "         [3.81416604e-02, 1.52927145e-01, 3.39943111e-01, ...,\n",
              "          3.35438937e-01, 1.52527228e-01, 1.31748393e-01],\n",
              "         [2.08228976e-01, 1.09796941e-01, 2.35313907e-01, ...,\n",
              "          1.12837292e-01, 6.32900298e-02, 2.44535610e-01],\n",
              "         [1.88110128e-01, 2.39761651e-01, 3.13979387e-01, ...,\n",
              "          2.17725858e-01, 2.97161758e-01, 2.74195760e-01]]],\n",
              "\n",
              "\n",
              "       [[[8.76308233e-03, 2.35433757e-01, 3.80879313e-01, ...,\n",
              "          2.09051386e-01, 3.01543683e-01, 5.89201152e-01],\n",
              "         [9.13428813e-02, 4.37609881e-01, 1.84387863e-02, ...,\n",
              "          1.16998710e-01, 7.69243762e-02, 4.15612087e-02],\n",
              "         [6.36170805e-02, 2.55069613e-01, 5.66996515e-01, ...,\n",
              "          5.59483945e-01, 2.54402578e-01, 2.19745234e-01],\n",
              "         [3.47308427e-01, 1.83132067e-01, 3.92483801e-01, ...,\n",
              "          1.88203111e-01, 1.05562449e-01, 4.07864839e-01],\n",
              "         [3.13751876e-01, 3.99902254e-01, 5.23691177e-01, ...,\n",
              "          3.63148391e-01, 4.95640814e-01, 4.57335442e-01]],\n",
              "\n",
              "        [[1.19795883e-02, 3.21850181e-01, 5.20681798e-01, ...,\n",
              "          2.85784096e-01, 4.12225872e-01, 8.05468559e-01],\n",
              "         [1.24870464e-01, 5.98235428e-01, 2.52067782e-02, ...,\n",
              "          1.59943312e-01, 1.05159618e-01, 5.68163320e-02],\n",
              "         [8.69678482e-02, 3.48693401e-01, 7.75113702e-01, ...,\n",
              "          7.64843583e-01, 3.47781539e-01, 3.00403148e-01],\n",
              "         [4.74788636e-01, 2.50351042e-01, 5.36545753e-01, ...,\n",
              "          2.57283419e-01, 1.44309342e-01, 5.57572424e-01],\n",
              "         [4.28915113e-01, 5.46687186e-01, 7.15913057e-01, ...,\n",
              "          4.96442735e-01, 6.77566707e-01, 6.25201344e-01]],\n",
              "\n",
              "        [[8.79891217e-03, 2.36396402e-01, 3.82436633e-01, ...,\n",
              "          2.09906146e-01, 3.02776635e-01, 5.91610253e-01],\n",
              "         [9.17163640e-02, 4.39399153e-01, 1.85141787e-02, ...,\n",
              "          1.17477089e-01, 7.72389024e-02, 4.17311452e-02],\n",
              "         [6.38771951e-02, 2.56112546e-01, 5.69314837e-01, ...,\n",
              "          5.61771512e-01, 2.55442768e-01, 2.20643714e-01],\n",
              "         [3.48728478e-01, 1.83880851e-01, 3.94088596e-01, ...,\n",
              "          1.88972637e-01, 1.05994068e-01, 4.09532487e-01],\n",
              "         [3.15034747e-01, 4.01537389e-01, 5.25832415e-01, ...,\n",
              "          3.64633232e-01, 4.97667372e-01, 4.59205389e-01]],\n",
              "\n",
              "        ...,\n",
              "\n",
              "        [[1.24220280e-02, 3.33737016e-01, 5.39912045e-01, ...,\n",
              "          2.96338886e-01, 4.27450538e-01, 8.35216761e-01],\n",
              "         [1.29482284e-01, 6.20329916e-01, 2.61377357e-02, ...,\n",
              "          1.65850461e-01, 1.09043457e-01, 5.89147173e-02],\n",
              "         [9.01798159e-02, 3.61571610e-01, 8.03740799e-01, ...,\n",
              "          7.93091416e-01, 3.60626072e-01, 3.11497867e-01],\n",
              "         [4.92323905e-01, 2.59597212e-01, 5.56361854e-01, ...,\n",
              "          2.66785622e-01, 1.49639100e-01, 5.78165114e-01],\n",
              "         [4.44756150e-01, 5.66877842e-01, 7.42353678e-01, ...,\n",
              "          5.14777720e-01, 7.02591121e-01, 6.48291767e-01]],\n",
              "\n",
              "        [[1.29559794e-02, 3.48082423e-01, 5.63119769e-01, ...,\n",
              "          3.09076786e-01, 4.45824176e-01, 8.71117949e-01],\n",
              "         [1.35047972e-01, 6.46994352e-01, 2.72612460e-02, ...,\n",
              "          1.72979414e-01, 1.13730602e-01, 6.14471212e-02],\n",
              "         [9.40561295e-02, 3.77113491e-01, 8.38289022e-01, ...,\n",
              "          8.27181816e-01, 3.76127303e-01, 3.24887365e-01],\n",
              "         [5.13486087e-01, 2.70755798e-01, 5.80276668e-01, ...,\n",
              "          2.78253198e-01, 1.56071216e-01, 6.03017092e-01],\n",
              "         [4.63873655e-01, 5.91244638e-01, 7.74263203e-01, ...,\n",
              "          5.36905050e-01, 7.32791483e-01, 6.76158071e-01]],\n",
              "\n",
              "        [[1.35905296e-02, 3.65130603e-01, 5.90699852e-01, ...,\n",
              "          3.24214578e-01, 4.67659473e-01, 9.13783014e-01],\n",
              "         [1.41662270e-01, 6.78682387e-01, 2.85964310e-02, ...,\n",
              "          1.81451499e-01, 1.19300827e-01, 6.44566417e-02],\n",
              "         [9.86627489e-02, 3.95583540e-01, 8.79346192e-01, ...,\n",
              "          8.67695034e-01, 3.94549042e-01, 3.40799481e-01],\n",
              "         [5.38635254e-01, 2.84016699e-01, 6.08697116e-01, ...,\n",
              "          2.91881323e-01, 1.63715169e-01, 6.32551312e-01],\n",
              "         [4.86592948e-01, 6.20202243e-01, 8.12184572e-01, ...,\n",
              "          5.63201249e-01, 7.68681705e-01, 7.09274530e-01]]],\n",
              "\n",
              "\n",
              "       [[[2.40941602e-03, 6.47326931e-02, 1.04723059e-01, ...,\n",
              "          5.74788339e-02, 8.29096660e-02, 1.62001312e-01],\n",
              "         [2.51147952e-02, 1.20321162e-01, 5.06975828e-03, ...,\n",
              "          3.21688838e-02, 2.11504158e-02, 1.14272861e-02],\n",
              "         [1.74915642e-02, 7.01315850e-02, 1.55896127e-01, ...,\n",
              "          1.53830528e-01, 6.99481815e-02, 6.04191162e-02],\n",
              "         [9.54927132e-02, 5.03522977e-02, 1.07913718e-01, ...,\n",
              "          5.17465882e-02, 2.90244743e-02, 1.12142742e-01],\n",
              "         [8.62663165e-02, 1.09953433e-01, 1.43989280e-01, ...,\n",
              "          9.98479277e-02, 1.36276811e-01, 1.25744730e-01]],\n",
              "\n",
              "        [[7.56086037e-03, 2.03134224e-01, 3.28625858e-01, ...,\n",
              "          1.80371270e-01, 2.60174423e-01, 5.08367658e-01],\n",
              "         [7.88113996e-02, 3.77573460e-01, 1.59091391e-02, ...,\n",
              "          1.00947462e-01, 6.63709939e-02, 3.58593576e-02],\n",
              "         [5.48893474e-02, 2.20076188e-01, 4.89209324e-01, ...,\n",
              "          4.82727408e-01, 2.19500661e-01, 1.89598024e-01],\n",
              "         [2.99660593e-01, 1.58007875e-01, 3.38638306e-01, ...,\n",
              "          1.62383214e-01, 9.10801589e-02, 3.51909190e-01],\n",
              "         [2.70707726e-01, 3.45039010e-01, 4.51845109e-01, ...,\n",
              "          3.13327461e-01, 4.27643031e-01, 3.94592851e-01]],\n",
              "\n",
              "        [[8.66100565e-03, 2.32691318e-01, 3.76442671e-01, ...,\n",
              "          2.06616253e-01, 2.98031181e-01, 5.82337856e-01],\n",
              "         [9.02788788e-02, 4.32512403e-01, 1.82240028e-02, ...,\n",
              "          1.15635857e-01, 7.60283247e-02, 4.10770848e-02],\n",
              "         [6.28760383e-02, 2.52098441e-01, 5.60391903e-01, ...,\n",
              "          5.52966833e-01, 2.51439184e-01, 2.17185542e-01],\n",
              "         [3.43262821e-01, 1.80998862e-01, 3.87911975e-01, ...,\n",
              "          1.86010838e-01, 1.04332812e-01, 4.03113842e-01],\n",
              "         [3.10097158e-01, 3.95244032e-01, 5.17591000e-01, ...,\n",
              "          3.58918279e-01, 4.89867359e-01, 4.52008218e-01]],\n",
              "\n",
              "        ...,\n",
              "\n",
              "        [[5.63803175e-03, 1.51474446e-01, 2.45051861e-01, ...,\n",
              "          1.34500429e-01, 1.94008544e-01, 3.79082918e-01],\n",
              "         [5.87686002e-02, 2.81551421e-01, 1.18632307e-02, ...,\n",
              "          7.52751604e-02, 4.94919531e-02, 2.67398395e-02],\n",
              "         [4.09302451e-02, 1.64107844e-01, 3.64796817e-01, ...,\n",
              "          3.59963328e-01, 1.63678676e-01, 1.41380683e-01],\n",
              "         [2.23452866e-01, 1.17824338e-01, 2.52518028e-01, ...,\n",
              "          1.21086977e-01, 6.79172501e-02, 2.62413919e-01],\n",
              "         [2.01863110e-01, 2.57290930e-01, 3.36934805e-01, ...,\n",
              "          2.33644068e-01, 3.18887651e-01, 2.94242561e-01]],\n",
              "\n",
              "        [[1.38880769e-02, 3.73124659e-01, 6.03632510e-01, ...,\n",
              "          3.31312835e-01, 4.77898270e-01, 9.33789134e-01],\n",
              "         [1.44763783e-01, 6.93541288e-01, 2.92225126e-02, ...,\n",
              "          1.85424149e-01, 1.21912770e-01, 6.58678412e-02],\n",
              "         [1.00822844e-01, 4.04244334e-01, 8.98598373e-01, ...,\n",
              "          8.86692107e-01, 4.03187186e-01, 3.48260880e-01],\n",
              "         [5.50428033e-01, 2.90234894e-01, 6.22023761e-01, ...,\n",
              "          2.98271686e-01, 1.67299509e-01, 6.46400213e-01],\n",
              "         [4.97246295e-01, 6.33780837e-01, 8.29966366e-01, ...,\n",
              "          5.75531840e-01, 7.85511017e-01, 7.24803209e-01]],\n",
              "\n",
              "        [[1.04296999e-02, 2.80210018e-01, 4.53317314e-01, ...,\n",
              "          2.48810068e-01, 3.58893156e-01, 7.01259077e-01],\n",
              "         [1.08715042e-01, 5.20837247e-01, 2.19455902e-02, ...,\n",
              "          1.39250249e-01, 9.15543288e-02, 4.94655780e-02],\n",
              "         [7.57161677e-02, 3.03580344e-01, 6.74831450e-01, ...,\n",
              "          6.65890038e-01, 3.02786440e-01, 2.61537731e-01],\n",
              "         [4.13361669e-01, 2.17961252e-01, 4.67128813e-01, ...,\n",
              "          2.23996744e-01, 1.25638962e-01, 4.85435098e-01],\n",
              "         [3.73423159e-01, 4.75958169e-01, 6.23290002e-01, ...,\n",
              "          4.32214230e-01, 5.89904845e-01, 5.44314325e-01]]]],\n",
              "      dtype=float32)>"
            ]
          },
          "metadata": {},
          "execution_count": 98
        }
      ]
    },
    {
      "cell_type": "code",
      "source": [],
      "metadata": {
        "id": "DGV_6-BH1ed5"
      },
      "execution_count": null,
      "outputs": []
    }
  ]
}