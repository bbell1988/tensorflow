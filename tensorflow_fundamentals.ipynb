{
  "nbformat": 4,
  "nbformat_minor": 0,
  "metadata": {
    "colab": {
      "provenance": [],
      "authorship_tag": "ABX9TyPk032j+opJvpcx/ucaQ5A2",
      "include_colab_link": true
    },
    "kernelspec": {
      "name": "python3",
      "display_name": "Python 3"
    },
    "language_info": {
      "name": "python"
    },
    "accelerator": "GPU",
    "gpuClass": "standard"
  },
  "cells": [
    {
      "cell_type": "markdown",
      "metadata": {
        "id": "view-in-github",
        "colab_type": "text"
      },
      "source": [
        "<a href=\"https://colab.research.google.com/github/bbell1988/tensorflow/blob/main/tensorflow_fundamentals.ipynb\" target=\"_parent\"><img src=\"https://colab.research.google.com/assets/colab-badge.svg\" alt=\"Open In Colab\"/></a>"
      ]
    },
    {
      "cell_type": "markdown",
      "source": [
        "# In this notebook, we're going to cover some of the most fundamental concepts of tensors using TensorFlow.\n",
        "\n",
        "More specifically, we're going to cover:\n",
        "\n",
        "* Introduction to tensors\n",
        "* Getting information from tensors\n",
        "* Manipulating tensors\n",
        "* Tensors & Numpy\n",
        "* Using @tf.function (a way to speed up your regular functions)\n",
        "* Using GPUs with TensorFlow (or TPUs)\n",
        "* Exercises to try yourself!\n",
        "\n"
      ],
      "metadata": {
        "id": "Nx1_KD8SzlfR"
      }
    },
    {
      "cell_type": "markdown",
      "source": [
        "# Introduction to Tensors"
      ],
      "metadata": {
        "id": "TXFscAjx0UiA"
      }
    },
    {
      "cell_type": "code",
      "source": [
        "# Import TensorFlow\n",
        "import tensorflow as tf\n",
        "print(tf.__version__)"
      ],
      "metadata": {
        "colab": {
          "base_uri": "https://localhost:8080/"
        },
        "id": "yZt4KwBN0RoI",
        "outputId": "b61bb67e-c7ce-4c1c-be10-056a8efade0d"
      },
      "execution_count": 1,
      "outputs": [
        {
          "output_type": "stream",
          "name": "stdout",
          "text": [
            "2.9.2\n"
          ]
        }
      ]
    },
    {
      "cell_type": "code",
      "source": [
        "# Create tensors with tf.constant()\n",
        "scalar = tf.constant(7)\n",
        "scalar"
      ],
      "metadata": {
        "colab": {
          "base_uri": "https://localhost:8080/"
        },
        "id": "0sepncLm0jH3",
        "outputId": "a75ad797-6fae-4582-8609-085359c2fac3"
      },
      "execution_count": 2,
      "outputs": [
        {
          "output_type": "execute_result",
          "data": {
            "text/plain": [
              "<tf.Tensor: shape=(), dtype=int32, numpy=7>"
            ]
          },
          "metadata": {},
          "execution_count": 2
        }
      ]
    },
    {
      "cell_type": "code",
      "source": [
        "# check number of dimensions of a tensor (ndim stands for number of dimensions)\n",
        "scalar.ndim"
      ],
      "metadata": {
        "colab": {
          "base_uri": "https://localhost:8080/"
        },
        "id": "SWVVKpJ606nu",
        "outputId": "087f799e-6c22-40a4-a5a7-8b1568cfde9e"
      },
      "execution_count": 3,
      "outputs": [
        {
          "output_type": "execute_result",
          "data": {
            "text/plain": [
              "0"
            ]
          },
          "metadata": {},
          "execution_count": 3
        }
      ]
    },
    {
      "cell_type": "code",
      "source": [
        "# create a vector\n",
        "vector = tf.constant([10,10])\n",
        "vector"
      ],
      "metadata": {
        "colab": {
          "base_uri": "https://localhost:8080/"
        },
        "id": "KlLfMTDF1iz6",
        "outputId": "5c1bf699-45e5-4ded-fb00-2c9fa79668c3"
      },
      "execution_count": 4,
      "outputs": [
        {
          "output_type": "execute_result",
          "data": {
            "text/plain": [
              "<tf.Tensor: shape=(2,), dtype=int32, numpy=array([10, 10], dtype=int32)>"
            ]
          },
          "metadata": {},
          "execution_count": 4
        }
      ]
    },
    {
      "cell_type": "code",
      "source": [
        "# check the dimension of our vector\n",
        "vector.ndim"
      ],
      "metadata": {
        "colab": {
          "base_uri": "https://localhost:8080/"
        },
        "id": "BN-H9SHr1xpF",
        "outputId": "a423cead-bf9e-4023-eafa-e1fd63668129"
      },
      "execution_count": 5,
      "outputs": [
        {
          "output_type": "execute_result",
          "data": {
            "text/plain": [
              "1"
            ]
          },
          "metadata": {},
          "execution_count": 5
        }
      ]
    },
    {
      "cell_type": "code",
      "source": [
        "# create a matrix\n",
        "matrix = tf.constant([[10,7],\n",
        "                     [7,10]])\n",
        "matrix"
      ],
      "metadata": {
        "colab": {
          "base_uri": "https://localhost:8080/"
        },
        "id": "giwWrtNJ1_lr",
        "outputId": "20a2af14-a736-43b9-d30c-46dfb3c1fffe"
      },
      "execution_count": 6,
      "outputs": [
        {
          "output_type": "execute_result",
          "data": {
            "text/plain": [
              "<tf.Tensor: shape=(2, 2), dtype=int32, numpy=\n",
              "array([[10,  7],\n",
              "       [ 7, 10]], dtype=int32)>"
            ]
          },
          "metadata": {},
          "execution_count": 6
        }
      ]
    },
    {
      "cell_type": "code",
      "source": [
        "matrix.ndim"
      ],
      "metadata": {
        "colab": {
          "base_uri": "https://localhost:8080/"
        },
        "id": "tu1W38RG2WmA",
        "outputId": "b2263e1c-948a-427a-f09d-8c35cd718ee9"
      },
      "execution_count": 7,
      "outputs": [
        {
          "output_type": "execute_result",
          "data": {
            "text/plain": [
              "2"
            ]
          },
          "metadata": {},
          "execution_count": 7
        }
      ]
    },
    {
      "cell_type": "code",
      "source": [
        "# Create another matrix\n",
        "\n",
        "another_matrix = tf.constant([[10., 7.],\n",
        "                              [3., 2.],\n",
        "                              [8., 9.]], dtype=tf.float16) # specifying the data type\n",
        "\n",
        "another_matrix"
      ],
      "metadata": {
        "id": "ONSzDz5_2nxa",
        "colab": {
          "base_uri": "https://localhost:8080/"
        },
        "outputId": "e1fc2fc0-b960-486e-b3cb-37b43c3b6636"
      },
      "execution_count": 8,
      "outputs": [
        {
          "output_type": "execute_result",
          "data": {
            "text/plain": [
              "<tf.Tensor: shape=(3, 2), dtype=float16, numpy=\n",
              "array([[10.,  7.],\n",
              "       [ 3.,  2.],\n",
              "       [ 8.,  9.]], dtype=float16)>"
            ]
          },
          "metadata": {},
          "execution_count": 8
        }
      ]
    },
    {
      "cell_type": "code",
      "source": [
        "another_matrix.ndim"
      ],
      "metadata": {
        "colab": {
          "base_uri": "https://localhost:8080/"
        },
        "id": "GFxhkyeWpPGU",
        "outputId": "c31caa1a-ef69-4c2c-8fe3-3407c5156c35"
      },
      "execution_count": 9,
      "outputs": [
        {
          "output_type": "execute_result",
          "data": {
            "text/plain": [
              "2"
            ]
          },
          "metadata": {},
          "execution_count": 9
        }
      ]
    },
    {
      "cell_type": "code",
      "source": [],
      "metadata": {
        "id": "qiSGT4eRpcMW"
      },
      "execution_count": 9,
      "outputs": []
    },
    {
      "cell_type": "markdown",
      "source": [
        "# Self-Practice"
      ],
      "metadata": {
        "id": "_SXSbvENjpeN"
      }
    },
    {
      "cell_type": "markdown",
      "source": [
        "### Create a vector, scalar, matrix and tensor with values of your choosing using tf.constant()."
      ],
      "metadata": {
        "id": "ruflIkeDub1W"
      }
    },
    {
      "cell_type": "code",
      "source": [
        "import tensorflow as tf"
      ],
      "metadata": {
        "id": "lVjk-qWKjsu_"
      },
      "execution_count": 10,
      "outputs": []
    },
    {
      "cell_type": "code",
      "source": [
        "scalar = tf.constant(7)\n",
        "\n",
        "print('ndim: ',scalar.ndim), print('size: ',tf.size(scalar).numpy())\n",
        "scalar.shape"
      ],
      "metadata": {
        "colab": {
          "base_uri": "https://localhost:8080/"
        },
        "id": "gJvqn5cNjxJG",
        "outputId": "3da76891-485a-43d9-851d-1aa3177f11e9"
      },
      "execution_count": 11,
      "outputs": [
        {
          "output_type": "stream",
          "name": "stdout",
          "text": [
            "ndim:  0\n",
            "size:  1\n"
          ]
        },
        {
          "output_type": "execute_result",
          "data": {
            "text/plain": [
              "TensorShape([])"
            ]
          },
          "metadata": {},
          "execution_count": 11
        }
      ]
    },
    {
      "cell_type": "code",
      "source": [
        "vector = tf.constant([4,3,2,1])\n",
        "\n",
        "print('ndim: ',vector.ndim), print('size: ',tf.size(vector).numpy())\n",
        "vector.shape"
      ],
      "metadata": {
        "colab": {
          "base_uri": "https://localhost:8080/"
        },
        "id": "EcXGxw_OkDiL",
        "outputId": "05734cdd-391b-4f17-cebe-2c3756802b18"
      },
      "execution_count": 12,
      "outputs": [
        {
          "output_type": "stream",
          "name": "stdout",
          "text": [
            "ndim:  1\n",
            "size:  4\n"
          ]
        },
        {
          "output_type": "execute_result",
          "data": {
            "text/plain": [
              "TensorShape([4])"
            ]
          },
          "metadata": {},
          "execution_count": 12
        }
      ]
    },
    {
      "cell_type": "code",
      "source": [
        "matrix = tf.constant([[3,12,6,5],\n",
        "                      [45,0,14,1]])\n",
        "\n",
        "print('ndim: ',matrix.ndim), print('size: ',tf.size(matrix).numpy())\n",
        "matrix.shape"
      ],
      "metadata": {
        "colab": {
          "base_uri": "https://localhost:8080/"
        },
        "id": "OjkPsjBdoAdD",
        "outputId": "fbf0fa04-e6bb-401d-b250-d203e29736f1"
      },
      "execution_count": 13,
      "outputs": [
        {
          "output_type": "stream",
          "name": "stdout",
          "text": [
            "ndim:  2\n",
            "size:  8\n"
          ]
        },
        {
          "output_type": "execute_result",
          "data": {
            "text/plain": [
              "TensorShape([2, 4])"
            ]
          },
          "metadata": {},
          "execution_count": 13
        }
      ]
    },
    {
      "cell_type": "markdown",
      "source": [
        "I like to think of size as \"how many elements are there in each set of brackets?\" , or in each list.\n",
        "\n",
        "Notice below that the outermost list has 2 elements, each their own lists that contain 3 elements themselves.\n",
        "\n",
        "The next list contains 3 elements ( 3 individual lists)\n",
        "\n",
        "And inside each list, there 5 elements\n",
        "\n",
        "Therefore the size is (2,3,5)"
      ],
      "metadata": {
        "id": "Bj1hw4R1pypT"
      }
    },
    {
      "cell_type": "code",
      "source": [
        "tensor_235 = tf.constant([[[2,3,6,1,0],\n",
        "                       [4,4,7,0,4],\n",
        "                       [3,8,1,5,5]],\n",
        "                      [[2,2,2,0,9],\n",
        "                       [3,3,1,7,8],\n",
        "                       [6,9,0,5,2]]])\n",
        "\n",
        "print('ndim: ',tensor_235.ndim), print('size: ',tf.size(tensor_235).numpy())\n",
        "tensor_235.shape"
      ],
      "metadata": {
        "colab": {
          "base_uri": "https://localhost:8080/"
        },
        "id": "7_tDERQqpkIi",
        "outputId": "a29f19fc-6242-49db-bd16-efd7e82792a7"
      },
      "execution_count": 14,
      "outputs": [
        {
          "output_type": "stream",
          "name": "stdout",
          "text": [
            "ndim:  3\n",
            "size:  30\n"
          ]
        },
        {
          "output_type": "execute_result",
          "data": {
            "text/plain": [
              "TensorShape([2, 3, 5])"
            ]
          },
          "metadata": {},
          "execution_count": 14
        }
      ]
    },
    {
      "cell_type": "code",
      "source": [
        "tensor_233 = tf.constant([[[2,3,6],\n",
        "                           [4,4,7],\n",
        "                           [3,8,1]],\n",
        "                          [[2,2,2],\n",
        "                           [3,3,1],\n",
        "                           [6,9,0]]])\n",
        "\n",
        "print('ndim: ',tensor_233.ndim), print('size: ',tf.size(tensor_233).numpy())\n",
        "tensor_233.shape"
      ],
      "metadata": {
        "colab": {
          "base_uri": "https://localhost:8080/"
        },
        "id": "5xQCjVe2qAYa",
        "outputId": "0064bc28-9d70-4e88-f0db-b3990e2b0016"
      },
      "execution_count": 15,
      "outputs": [
        {
          "output_type": "stream",
          "name": "stdout",
          "text": [
            "ndim:  3\n",
            "size:  18\n"
          ]
        },
        {
          "output_type": "execute_result",
          "data": {
            "text/plain": [
              "TensorShape([2, 3, 3])"
            ]
          },
          "metadata": {},
          "execution_count": 15
        }
      ]
    },
    {
      "cell_type": "code",
      "source": [
        "tensor_1112 = tf.constant([[[[2,4]]]])\n",
        "\n",
        "print('ndim: ',tensor_1112.ndim), print('size: ',tf.size(tensor_1112).numpy())\n",
        "tensor_1112.shape"
      ],
      "metadata": {
        "colab": {
          "base_uri": "https://localhost:8080/"
        },
        "id": "LbJTVVXxriS5",
        "outputId": "9b1d2a31-4e7f-426d-8af7-8ada3d75cf2e"
      },
      "execution_count": 16,
      "outputs": [
        {
          "output_type": "stream",
          "name": "stdout",
          "text": [
            "ndim:  4\n",
            "size:  2\n"
          ]
        },
        {
          "output_type": "execute_result",
          "data": {
            "text/plain": [
              "TensorShape([1, 1, 1, 2])"
            ]
          },
          "metadata": {},
          "execution_count": 16
        }
      ]
    },
    {
      "cell_type": "code",
      "source": [
        "tensor_133 = tf.constant([[[2,3,6],\n",
        "                           [4,4,7],\n",
        "                           [3,8,1]]])\n",
        "\n",
        "print('ndim: ',tensor_133.ndim), print('size: ',tf.size(tensor_133).numpy())\n",
        "tensor_133.shape"
      ],
      "metadata": {
        "colab": {
          "base_uri": "https://localhost:8080/"
        },
        "id": "4lUPEjU0rw6_",
        "outputId": "6931a068-5ea4-4402-e502-6e272448e734"
      },
      "execution_count": 17,
      "outputs": [
        {
          "output_type": "stream",
          "name": "stdout",
          "text": [
            "ndim:  3\n",
            "size:  9\n"
          ]
        },
        {
          "output_type": "execute_result",
          "data": {
            "text/plain": [
              "TensorShape([1, 3, 3])"
            ]
          },
          "metadata": {},
          "execution_count": 17
        }
      ]
    },
    {
      "cell_type": "markdown",
      "source": [
        "### Create two tensors containing random values between 0 and 1 with shape [5, 300]"
      ],
      "metadata": {
        "id": "8KIsoXd3u0Bt"
      }
    },
    {
      "cell_type": "code",
      "source": [
        "data1 = tf.random.uniform(shape=[5,300], seed=1) # documentation shows that unless specified, the values will be from [0,1)"
      ],
      "metadata": {
        "id": "m6TcLNWLyIAg"
      },
      "execution_count": 18,
      "outputs": []
    },
    {
      "cell_type": "code",
      "source": [
        "data1"
      ],
      "metadata": {
        "colab": {
          "base_uri": "https://localhost:8080/"
        },
        "id": "M4gXXaC5yahh",
        "outputId": "f190911b-d877-4889-c8da-73d9967b4a14"
      },
      "execution_count": 19,
      "outputs": [
        {
          "output_type": "execute_result",
          "data": {
            "text/plain": [
              "<tf.Tensor: shape=(5, 300), dtype=float32, numpy=\n",
              "array([[0.2390374 , 0.92039955, 0.05051243, ..., 0.98160636, 0.9397274 ,\n",
              "        0.9571533 ],\n",
              "       [0.7466923 , 0.7157371 , 0.18135226, ..., 0.39082885, 0.88578534,\n",
              "        0.17549968],\n",
              "       [0.86248875, 0.7112448 , 0.83313787, ..., 0.54438615, 0.34139645,\n",
              "        0.23390317],\n",
              "       [0.26130998, 0.34569085, 0.06005359, ..., 0.72619724, 0.4790709 ,\n",
              "        0.7699661 ],\n",
              "       [0.47346985, 0.48816705, 0.7319356 , ..., 0.8416518 , 0.19057858,\n",
              "        0.60791457]], dtype=float32)>"
            ]
          },
          "metadata": {},
          "execution_count": 19
        }
      ]
    },
    {
      "cell_type": "code",
      "source": [
        "data2 = tf.random.uniform(shape=[5,300], seed=2)"
      ],
      "metadata": {
        "id": "rhiCuq9Eyy5Z"
      },
      "execution_count": 20,
      "outputs": []
    },
    {
      "cell_type": "code",
      "source": [
        "data2"
      ],
      "metadata": {
        "colab": {
          "base_uri": "https://localhost:8080/"
        },
        "id": "XuIcRPwuzYs_",
        "outputId": "1edc96cd-e4b3-4419-c657-1a1b916d0204"
      },
      "execution_count": 21,
      "outputs": [
        {
          "output_type": "execute_result",
          "data": {
            "text/plain": [
              "<tf.Tensor: shape=(5, 300), dtype=float32, numpy=\n",
              "array([[0.6787466 , 0.7141509 , 0.46981692, ..., 0.5545454 , 0.294469  ,\n",
              "        0.83188725],\n",
              "       [0.32239437, 0.42901587, 0.32162714, ..., 0.05301929, 0.87991524,\n",
              "        0.9623717 ],\n",
              "       [0.11586094, 0.65085936, 0.08858275, ..., 0.7520814 , 0.3141502 ,\n",
              "        0.24934983],\n",
              "       [0.548208  , 0.12416232, 0.16294503, ..., 0.94239736, 0.55103767,\n",
              "        0.36462784],\n",
              "       [0.38934302, 0.17725277, 0.71458256, ..., 0.94497836, 0.7527311 ,\n",
              "        0.7274507 ]], dtype=float32)>"
            ]
          },
          "metadata": {},
          "execution_count": 21
        }
      ]
    },
    {
      "cell_type": "markdown",
      "source": [
        "### Multiply the two tensors you created using matrix multiplication"
      ],
      "metadata": {
        "id": "KJBHiVCmzmqi"
      }
    },
    {
      "cell_type": "code",
      "source": [
        "mul_result = tf.matmul(a=data1,b=data2,transpose_b=True)"
      ],
      "metadata": {
        "id": "4VP84yeCzZ2k"
      },
      "execution_count": 22,
      "outputs": []
    },
    {
      "cell_type": "code",
      "source": [
        "mul_result"
      ],
      "metadata": {
        "colab": {
          "base_uri": "https://localhost:8080/"
        },
        "id": "sxl7lyxe0UPN",
        "outputId": "365a4e3c-28c3-4791-b58b-0a8bd928dc38"
      },
      "execution_count": 23,
      "outputs": [
        {
          "output_type": "execute_result",
          "data": {
            "text/plain": [
              "<tf.Tensor: shape=(5, 5), dtype=float32, numpy=\n",
              "array([[75.11711 , 80.06925 , 76.1739  , 81.06856 , 74.3251  ],\n",
              "       [71.69417 , 79.91297 , 74.806145, 79.25944 , 76.904274],\n",
              "       [72.95303 , 75.94667 , 75.53053 , 77.82711 , 79.27869 ],\n",
              "       [72.15994 , 76.15966 , 73.88465 , 80.42831 , 77.3385  ],\n",
              "       [74.01618 , 79.536575, 73.96097 , 79.74137 , 79.20613 ]],\n",
              "      dtype=float32)>"
            ]
          },
          "metadata": {},
          "execution_count": 23
        }
      ]
    },
    {
      "cell_type": "markdown",
      "source": [
        "### Multiply the two tensors you created in 3 using dot product"
      ],
      "metadata": {
        "id": "ZMxcXt410jtS"
      }
    },
    {
      "cell_type": "code",
      "source": [
        "tf.tensordot(a=data1,b=tf.transpose(data2),axes=1)"
      ],
      "metadata": {
        "colab": {
          "base_uri": "https://localhost:8080/"
        },
        "id": "YJzotghgiSbr",
        "outputId": "6637d9e7-2af3-4598-e030-9bdd042e0e7e"
      },
      "execution_count": 24,
      "outputs": [
        {
          "output_type": "execute_result",
          "data": {
            "text/plain": [
              "<tf.Tensor: shape=(5, 5), dtype=float32, numpy=\n",
              "array([[75.11712 , 80.06926 , 76.17389 , 81.06854 , 74.3251  ],\n",
              "       [71.69416 , 79.91298 , 74.80615 , 79.25944 , 76.90428 ],\n",
              "       [72.95304 , 75.946686, 75.53054 , 77.8271  , 79.27868 ],\n",
              "       [72.15994 , 76.15965 , 73.884636, 80.42831 , 77.33849 ],\n",
              "       [74.01618 , 79.53657 , 73.960976, 79.74137 , 79.20614 ]],\n",
              "      dtype=float32)>"
            ]
          },
          "metadata": {},
          "execution_count": 24
        }
      ]
    },
    {
      "cell_type": "code",
      "source": [
        "aa = tf.constant([[2,4],\n",
        "                  [3,6]])\n",
        "\n",
        "bb = tf.constant([[3,9],\n",
        "                  [4,7]])"
      ],
      "metadata": {
        "id": "I4ZxEH1y2OGo"
      },
      "execution_count": 25,
      "outputs": []
    },
    {
      "cell_type": "code",
      "source": [
        "tf.tensordot(a=aa,b=bb,axes=1)"
      ],
      "metadata": {
        "colab": {
          "base_uri": "https://localhost:8080/"
        },
        "id": "OjtxP5zX2a02",
        "outputId": "039c136e-646f-4ffc-818a-595b4c2c2ee6"
      },
      "execution_count": 26,
      "outputs": [
        {
          "output_type": "execute_result",
          "data": {
            "text/plain": [
              "<tf.Tensor: shape=(2, 2), dtype=int32, numpy=\n",
              "array([[22, 46],\n",
              "       [33, 69]], dtype=int32)>"
            ]
          },
          "metadata": {},
          "execution_count": 26
        }
      ]
    },
    {
      "cell_type": "markdown",
      "source": [
        "The above does matrix multiplication as expected"
      ],
      "metadata": {
        "id": "Fd3yf6WzjGsH"
      }
    },
    {
      "cell_type": "code",
      "source": [
        "tf.tensordot(a=aa,b=bb,axes=0)"
      ],
      "metadata": {
        "colab": {
          "base_uri": "https://localhost:8080/"
        },
        "id": "9Rcnyfc70Z_a",
        "outputId": "984f6a33-3083-4ea0-bf74-307c1a2593c5"
      },
      "execution_count": 31,
      "outputs": [
        {
          "output_type": "execute_result",
          "data": {
            "text/plain": [
              "<tf.Tensor: shape=(2, 2, 2, 2), dtype=int32, numpy=\n",
              "array([[[[ 6, 18],\n",
              "         [ 8, 14]],\n",
              "\n",
              "        [[12, 36],\n",
              "         [16, 28]]],\n",
              "\n",
              "\n",
              "       [[[ 9, 27],\n",
              "         [12, 21]],\n",
              "\n",
              "        [[18, 54],\n",
              "         [24, 42]]]], dtype=int32)>"
            ]
          },
          "metadata": {},
          "execution_count": 31
        }
      ]
    },
    {
      "cell_type": "markdown",
      "source": [
        "### Create a tensor with random values between 0 and 1 with shape [224, 224, 3]."
      ],
      "metadata": {
        "id": "flsaSP-FkCHZ"
      }
    },
    {
      "cell_type": "code",
      "source": [
        "tensor_shape224 = tf.random.uniform(shape=[224,224,3])"
      ],
      "metadata": {
        "id": "DGV_6-BH1ed5"
      },
      "execution_count": 35,
      "outputs": []
    },
    {
      "cell_type": "markdown",
      "source": [
        "### Find the min and max values of the tensor you created in 6."
      ],
      "metadata": {
        "id": "UDOPn0vilHFi"
      }
    },
    {
      "cell_type": "code",
      "source": [
        "tf.reduce_min(tensor_shape224)"
      ],
      "metadata": {
        "colab": {
          "base_uri": "https://localhost:8080/"
        },
        "id": "JHctYNwAkKOr",
        "outputId": "29bdec63-f358-4486-f33c-8426bc37b197"
      },
      "execution_count": 37,
      "outputs": [
        {
          "output_type": "execute_result",
          "data": {
            "text/plain": [
              "<tf.Tensor: shape=(), dtype=float32, numpy=5.722046e-06>"
            ]
          },
          "metadata": {},
          "execution_count": 37
        }
      ]
    },
    {
      "cell_type": "code",
      "source": [
        "tf.reduce_max(tensor_shape224)"
      ],
      "metadata": {
        "colab": {
          "base_uri": "https://localhost:8080/"
        },
        "id": "73orUHfvk4bx",
        "outputId": "c71c9199-a6ce-44ca-a89d-c4a35af649f6"
      },
      "execution_count": 38,
      "outputs": [
        {
          "output_type": "execute_result",
          "data": {
            "text/plain": [
              "<tf.Tensor: shape=(), dtype=float32, numpy=0.9999956>"
            ]
          },
          "metadata": {},
          "execution_count": 38
        }
      ]
    },
    {
      "cell_type": "markdown",
      "source": [
        "### Created a tensor with random values of shape [1, 224, 224, 3] then squeeze it to change the shape to [224, 224, 3]."
      ],
      "metadata": {
        "id": "b_fg5IX2mFfz"
      }
    },
    {
      "cell_type": "code",
      "source": [
        "squeezable = tf.random.uniform(shape=[1,224,224,3])\n",
        "squeezable\n",
        "\n",
        "tf.squeeze(squeezable)"
      ],
      "metadata": {
        "colab": {
          "base_uri": "https://localhost:8080/"
        },
        "id": "v8908DetlSFC",
        "outputId": "8f79034e-b423-4300-edf5-fffc8c665697"
      },
      "execution_count": 42,
      "outputs": [
        {
          "output_type": "execute_result",
          "data": {
            "text/plain": [
              "<tf.Tensor: shape=(224, 224, 3), dtype=float32, numpy=\n",
              "array([[[0.12415695, 0.33751965, 0.32126164],\n",
              "        [0.2943288 , 0.8360143 , 0.55043316],\n",
              "        [0.21018314, 0.8741846 , 0.71938705],\n",
              "        ...,\n",
              "        [0.6004274 , 0.07333398, 0.33687186],\n",
              "        [0.8821511 , 0.9742578 , 0.37916195],\n",
              "        [0.8115698 , 0.6433327 , 0.21358383]],\n",
              "\n",
              "       [[0.81634164, 0.93622303, 0.15603566],\n",
              "        [0.8759779 , 0.781427  , 0.27019548],\n",
              "        [0.7776177 , 0.8436508 , 0.2440213 ],\n",
              "        ...,\n",
              "        [0.11293745, 0.7486737 , 0.15767682],\n",
              "        [0.49452436, 0.6453936 , 0.53716135],\n",
              "        [0.39884055, 0.6938803 , 0.11455369]],\n",
              "\n",
              "       [[0.9499124 , 0.11225152, 0.24740183],\n",
              "        [0.1650387 , 0.3245728 , 0.02028024],\n",
              "        [0.1160233 , 0.01129901, 0.13162863],\n",
              "        ...,\n",
              "        [0.4997449 , 0.80436766, 0.44451356],\n",
              "        [0.06865835, 0.47786808, 0.05597913],\n",
              "        [0.34036255, 0.81753683, 0.3937316 ]],\n",
              "\n",
              "       ...,\n",
              "\n",
              "       [[0.8629509 , 0.41195464, 0.936713  ],\n",
              "        [0.72920156, 0.9408542 , 0.6518179 ],\n",
              "        [0.38832462, 0.60645735, 0.6458813 ],\n",
              "        ...,\n",
              "        [0.35056126, 0.22807205, 0.18776262],\n",
              "        [0.58142555, 0.5027509 , 0.43526876],\n",
              "        [0.3682704 , 0.5491903 , 0.6067643 ]],\n",
              "\n",
              "       [[0.10776865, 0.88367975, 0.8661747 ],\n",
              "        [0.8742442 , 0.97370684, 0.21449506],\n",
              "        [0.16375804, 0.5326313 , 0.23376822],\n",
              "        ...,\n",
              "        [0.86849535, 0.72495437, 0.4550581 ],\n",
              "        [0.9198264 , 0.3435161 , 0.4693036 ],\n",
              "        [0.22718084, 0.37818408, 0.16418612]],\n",
              "\n",
              "       [[0.29323435, 0.977353  , 0.1896826 ],\n",
              "        [0.78682256, 0.48007834, 0.3718722 ],\n",
              "        [0.83093286, 0.05542994, 0.4840629 ],\n",
              "        ...,\n",
              "        [0.0811007 , 0.40415323, 0.15587711],\n",
              "        [0.00212097, 0.61584413, 0.9043685 ],\n",
              "        [0.72613204, 0.1699208 , 0.75987566]]], dtype=float32)>"
            ]
          },
          "metadata": {},
          "execution_count": 42
        }
      ]
    },
    {
      "cell_type": "markdown",
      "source": [
        "### Create a tensor with shape [10] using your own choice of values, then find the index which has the maximum value."
      ],
      "metadata": {
        "id": "MDkcDzCqmS9I"
      }
    },
    {
      "cell_type": "code",
      "source": [
        "shape10_tensor = tf.constant([10, 4, 13, 20, 5, 14, 1, 1, 0, 6])"
      ],
      "metadata": {
        "id": "t4ymoLOnmUUC"
      },
      "execution_count": 43,
      "outputs": []
    },
    {
      "cell_type": "code",
      "source": [
        "shape10_tensor"
      ],
      "metadata": {
        "colab": {
          "base_uri": "https://localhost:8080/"
        },
        "id": "_uWlyBCYmhQA",
        "outputId": "e0187177-99c3-4b10-dbf1-f06ae3d3e689"
      },
      "execution_count": 44,
      "outputs": [
        {
          "output_type": "execute_result",
          "data": {
            "text/plain": [
              "<tf.Tensor: shape=(10,), dtype=int32, numpy=array([10,  4, 13, 20,  5, 14,  1,  1,  0,  6], dtype=int32)>"
            ]
          },
          "metadata": {},
          "execution_count": 44
        }
      ]
    },
    {
      "cell_type": "code",
      "source": [
        "tf.one_hot(indices=shape10_tensor,depth=3)"
      ],
      "metadata": {
        "colab": {
          "base_uri": "https://localhost:8080/"
        },
        "id": "yqLFh3lNmjbQ",
        "outputId": "88197b66-f581-4e8b-977e-9206819b500f"
      },
      "execution_count": 46,
      "outputs": [
        {
          "output_type": "execute_result",
          "data": {
            "text/plain": [
              "<tf.Tensor: shape=(10, 3), dtype=float32, numpy=\n",
              "array([[0., 0., 0.],\n",
              "       [0., 0., 0.],\n",
              "       [0., 0., 0.],\n",
              "       [0., 0., 0.],\n",
              "       [0., 0., 0.],\n",
              "       [0., 0., 0.],\n",
              "       [0., 1., 0.],\n",
              "       [0., 1., 0.],\n",
              "       [1., 0., 0.],\n",
              "       [0., 0., 0.]], dtype=float32)>"
            ]
          },
          "metadata": {},
          "execution_count": 46
        }
      ]
    },
    {
      "cell_type": "markdown",
      "source": [
        "depth gives how determines how high of values can be shown.\n",
        "For example:\n",
        "\n",
        "Depth = 3 [0,0,0]\n",
        "Depth = 5 [0,0,0,0,0]\n",
        "\n",
        "Depth is essentially the amount of columns we will see\n",
        "\n",
        "The indices are the numbers to one-hot encode. So in this case, there will be 10 rows total"
      ],
      "metadata": {
        "id": "4xfQkQOWnetL"
      }
    },
    {
      "cell_type": "markdown",
      "source": [
        "For the sake of this problem, since the highest number in the indices is 20, we will need a depth of 21 in order to capture all of the values. See below!"
      ],
      "metadata": {
        "id": "gDpV6yNeoM78"
      }
    },
    {
      "cell_type": "code",
      "source": [
        "tf.one_hot(indices=shape10_tensor,depth=21)"
      ],
      "metadata": {
        "colab": {
          "base_uri": "https://localhost:8080/"
        },
        "id": "xwSBy3JHmt0r",
        "outputId": "3a204e15-e110-4310-d590-4266f4a6220b"
      },
      "execution_count": 48,
      "outputs": [
        {
          "output_type": "execute_result",
          "data": {
            "text/plain": [
              "<tf.Tensor: shape=(10, 21), dtype=float32, numpy=\n",
              "array([[0., 0., 0., 0., 0., 0., 0., 0., 0., 0., 1., 0., 0., 0., 0., 0.,\n",
              "        0., 0., 0., 0., 0.],\n",
              "       [0., 0., 0., 0., 1., 0., 0., 0., 0., 0., 0., 0., 0., 0., 0., 0.,\n",
              "        0., 0., 0., 0., 0.],\n",
              "       [0., 0., 0., 0., 0., 0., 0., 0., 0., 0., 0., 0., 0., 1., 0., 0.,\n",
              "        0., 0., 0., 0., 0.],\n",
              "       [0., 0., 0., 0., 0., 0., 0., 0., 0., 0., 0., 0., 0., 0., 0., 0.,\n",
              "        0., 0., 0., 0., 1.],\n",
              "       [0., 0., 0., 0., 0., 1., 0., 0., 0., 0., 0., 0., 0., 0., 0., 0.,\n",
              "        0., 0., 0., 0., 0.],\n",
              "       [0., 0., 0., 0., 0., 0., 0., 0., 0., 0., 0., 0., 0., 0., 1., 0.,\n",
              "        0., 0., 0., 0., 0.],\n",
              "       [0., 1., 0., 0., 0., 0., 0., 0., 0., 0., 0., 0., 0., 0., 0., 0.,\n",
              "        0., 0., 0., 0., 0.],\n",
              "       [0., 1., 0., 0., 0., 0., 0., 0., 0., 0., 0., 0., 0., 0., 0., 0.,\n",
              "        0., 0., 0., 0., 0.],\n",
              "       [1., 0., 0., 0., 0., 0., 0., 0., 0., 0., 0., 0., 0., 0., 0., 0.,\n",
              "        0., 0., 0., 0., 0.],\n",
              "       [0., 0., 0., 0., 0., 0., 1., 0., 0., 0., 0., 0., 0., 0., 0., 0.,\n",
              "        0., 0., 0., 0., 0.]], dtype=float32)>"
            ]
          },
          "metadata": {},
          "execution_count": 48
        }
      ]
    }
  ]
}